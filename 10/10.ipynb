{
 "cells": [
  {
   "cell_type": "code",
   "execution_count": 1,
   "metadata": {},
   "outputs": [],
   "source": [
    "with open('input') as f:\n",
    "    file_data = sorted(int(line.strip()) for line in f)\n",
    "    data = [0] + file_data + [max(file_data) + 3]"
   ]
  },
  {
   "cell_type": "code",
   "execution_count": 2,
   "metadata": {},
   "outputs": [],
   "source": [
    "from itertools import tee\n",
    "\n",
    "def pairwise(iterable):\n",
    "    \"s -> (s0,s1), (s1,s2), (s2, s3), ...\"\n",
    "    a, b = tee(iterable)\n",
    "    next(b, None)\n",
    "    return zip(a, b)"
   ]
  },
  {
   "cell_type": "code",
   "execution_count": 3,
   "metadata": {},
   "outputs": [],
   "source": [
    "def ones_and_threes(data):\n",
    "    ones = threes = 0\n",
    "    for a, b in pairwise(sorted(data)):\n",
    "        if b - a == 1:\n",
    "            ones += 1\n",
    "        elif b - a == 3:\n",
    "            threes += 1\n",
    "    return ones * threes"
   ]
  },
  {
   "cell_type": "code",
   "execution_count": 4,
   "metadata": {},
   "outputs": [
    {
     "name": "stdout",
     "output_type": "stream",
     "text": [
      "Part 1:\n",
      "1848\n"
     ]
    }
   ],
   "source": [
    "print(\"Part 1:\")\n",
    "print(ones_and_threes(data))"
   ]
  },
  {
   "cell_type": "code",
   "execution_count": 5,
   "metadata": {},
   "outputs": [],
   "source": [
    "def valid_paths(data):\n",
    "    \"valid_paths([1, 2, 3, 4]) => [2, 3, 4], [3, 4], [4]\"\n",
    "    a = data[0]\n",
    "    for i, b in enumerate(data[1:], start=1):\n",
    "        if b - a > 3:\n",
    "            return\n",
    "        yield data[i:]"
   ]
  },
  {
   "cell_type": "code",
   "execution_count": 6,
   "metadata": {},
   "outputs": [],
   "source": [
    "def count_subtrees(data, v=False):\n",
    "    if data[0] in cache:\n",
    "        return cache[data[0]]\n",
    "    subtrees = 0\n",
    "    if len(data) > 1:\n",
    "        for next_data in valid_paths(data):\n",
    "            value = count_subtrees(next_data)\n",
    "            cache[next_data[0]] = value\n",
    "            subtrees += value\n",
    "        return subtrees\n",
    "    return subtrees + 1"
   ]
  },
  {
   "cell_type": "code",
   "execution_count": 7,
   "metadata": {},
   "outputs": [
    {
     "name": "stdout",
     "output_type": "stream",
     "text": [
      "Part 2:\n",
      "8099130339328\n"
     ]
    }
   ],
   "source": [
    "cache = {}\n",
    "subtrees = count_subtrees(sorted(data))\n",
    "print(\"Part 2:\")\n",
    "print(subtrees)"
   ]
  },
  {
   "cell_type": "code",
   "execution_count": null,
   "metadata": {},
   "outputs": [],
   "source": []
  }
 ],
 "metadata": {
  "kernelspec": {
   "display_name": "Python 3",
   "language": "python",
   "name": "python3"
  },
  "language_info": {
   "codemirror_mode": {
    "name": "ipython",
    "version": 3
   },
   "file_extension": ".py",
   "mimetype": "text/x-python",
   "name": "python",
   "nbconvert_exporter": "python",
   "pygments_lexer": "ipython3",
   "version": "3.8.5"
  }
 },
 "nbformat": 4,
 "nbformat_minor": 4
}
