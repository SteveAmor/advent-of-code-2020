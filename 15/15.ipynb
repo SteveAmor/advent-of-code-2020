{
 "cells": [
  {
   "cell_type": "code",
   "execution_count": 61,
   "metadata": {},
   "outputs": [],
   "source": [
    "def get_last_index_diff(numbers):\n",
    "    return list(reversed(numbers[:-1])).index(numbers[-1]) + 1\n",
    "\n",
    "def play_game(start, stop):\n",
    "    numbers = start\n",
    "    while len(numbers) < stop:\n",
    "        previous = numbers[-1]\n",
    "        if previous in numbers[:-1]:\n",
    "            next = get_last_index_diff(numbers)\n",
    "        else:\n",
    "            next = 0\n",
    "        numbers.append(next)\n",
    "    return next"
   ]
  },
  {
   "cell_type": "code",
   "execution_count": 85,
   "metadata": {},
   "outputs": [
    {
     "name": "stdout",
     "output_type": "stream",
     "text": [
      "Part 1:\n",
      "273\n"
     ]
    }
   ],
   "source": [
    "print(\"Part 1:\")\n",
    "print(play_game([1,12,0,20,8,16], 2020))"
   ]
  },
  {
   "cell_type": "code",
   "execution_count": 111,
   "metadata": {},
   "outputs": [],
   "source": [
    "from collections import deque\n",
    "\n",
    "def play_game_fast(start, stop):\n",
    "    d = {\n",
    "        n: deque([i], maxlen=2) for i, n in enumerate(start)\n",
    "    }\n",
    "    previous = start[-1]\n",
    "    for i in range(len(start), stop):\n",
    "        d_prev = d[previous]\n",
    "        if len(d_prev) == 2:\n",
    "            next = d_prev[1] - d_prev[0]\n",
    "        else:\n",
    "            next = 0\n",
    "        if next in d:\n",
    "            d[next].append(i)\n",
    "        else:\n",
    "            d[next] = deque([i], maxlen=2)\n",
    "        previous = next\n",
    "    return next"
   ]
  },
  {
   "cell_type": "code",
   "execution_count": 114,
   "metadata": {},
   "outputs": [
    {
     "data": {
      "text/plain": [
       "47205"
      ]
     },
     "execution_count": 114,
     "metadata": {},
     "output_type": "execute_result"
    }
   ],
   "source": [
    "print(\"Part 2:\")\n",
    "print(play_game_fast([1,12,0,20,8,16], 30000000))"
   ]
  }
 ],
 "metadata": {
  "kernelspec": {
   "display_name": "Python 3",
   "language": "python",
   "name": "python3"
  },
  "language_info": {
   "codemirror_mode": {
    "name": "ipython",
    "version": 3
   },
   "file_extension": ".py",
   "mimetype": "text/x-python",
   "name": "python",
   "nbconvert_exporter": "python",
   "pygments_lexer": "ipython3",
   "version": "3.8.5"
  }
 },
 "nbformat": 4,
 "nbformat_minor": 4
}
