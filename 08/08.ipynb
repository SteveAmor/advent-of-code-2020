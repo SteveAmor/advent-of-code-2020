{
 "cells": [
  {
   "cell_type": "code",
   "execution_count": 34,
   "metadata": {},
   "outputs": [
    {
     "data": {
      "text/plain": [
       "633"
      ]
     },
     "execution_count": 34,
     "metadata": {},
     "output_type": "execute_result"
    }
   ],
   "source": [
    "with open('input') as f:\n",
    "    instructions = [\n",
    "        (instruction, int(n))\n",
    "        for instruction, n in [line.split() for line in f]\n",
    "    ]\n",
    "len(instructions)"
   ]
  },
  {
   "cell_type": "code",
   "execution_count": 54,
   "metadata": {},
   "outputs": [],
   "source": [
    "def do_instructions(instructions):\n",
    "    processed = set()\n",
    "    i = 0\n",
    "    acc = 0\n",
    "    while True:\n",
    "        if i in processed:\n",
    "            return (False, acc)\n",
    "        processed.add(i)\n",
    "        if i >= len(instructions):\n",
    "            return (True, acc)\n",
    "        instruction, n = instructions[i]\n",
    "        if instruction == 'nop':\n",
    "            i += 1\n",
    "        if instruction == 'acc':\n",
    "            acc += n\n",
    "            i += 1\n",
    "        elif instruction == 'jmp':\n",
    "            i += n"
   ]
  },
  {
   "cell_type": "code",
   "execution_count": 55,
   "metadata": {},
   "outputs": [
    {
     "name": "stdout",
     "output_type": "stream",
     "text": [
      "Part 1:\n",
      "1614\n"
     ]
    }
   ],
   "source": [
    "print(\"Part 1:\")\n",
    "_, acc = do_instructions(instructions)\n",
    "print(acc)"
   ]
  },
  {
   "cell_type": "code",
   "execution_count": 52,
   "metadata": {},
   "outputs": [],
   "source": [
    "def fix_instructions(instructions):\n",
    "    for i, (instruction, n) in enumerate(instructions):\n",
    "        new_instructions = instructions.copy()\n",
    "        if instruction == 'acc':\n",
    "            continue\n",
    "        elif instruction == 'nop':\n",
    "            new_instructions[i] = ('jmp', n)\n",
    "        elif instruction == 'jmp':\n",
    "            new_instructions[i] = ('nop', n)\n",
    "        completed, acc = do_instructions(new_instructions)\n",
    "        if completed:\n",
    "            return acc\n",
    "    return \"nope\""
   ]
  },
  {
   "cell_type": "code",
   "execution_count": 57,
   "metadata": {},
   "outputs": [
    {
     "name": "stdout",
     "output_type": "stream",
     "text": [
      "Part 2:\n",
      "1260\n"
     ]
    }
   ],
   "source": [
    "print(\"Part 2:\")\n",
    "print(fix_instructions(instructions))"
   ]
  },
  {
   "cell_type": "code",
   "execution_count": null,
   "metadata": {},
   "outputs": [],
   "source": []
  }
 ],
 "metadata": {
  "kernelspec": {
   "display_name": "Python 3",
   "language": "python",
   "name": "python3"
  },
  "language_info": {
   "codemirror_mode": {
    "name": "ipython",
    "version": 3
   },
   "file_extension": ".py",
   "mimetype": "text/x-python",
   "name": "python",
   "nbconvert_exporter": "python",
   "pygments_lexer": "ipython3",
   "version": "3.8.5"
  }
 },
 "nbformat": 4,
 "nbformat_minor": 4
}
