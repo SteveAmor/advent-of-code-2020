{
 "cells": [
  {
   "cell_type": "code",
   "execution_count": 1,
   "metadata": {},
   "outputs": [],
   "source": [
    "with open('input') as f:\n",
    "    data = [int(line.strip()) for line in f]"
   ]
  },
  {
   "cell_type": "code",
   "execution_count": 4,
   "metadata": {},
   "outputs": [],
   "source": [
    "import itertools\n",
    "\n",
    "def valid_number(n, stream):\n",
    "    return n in {a + b for a, b in itertools.combinations(stream, 2)}"
   ]
  },
  {
   "cell_type": "code",
   "execution_count": 5,
   "metadata": {},
   "outputs": [],
   "source": [
    "def validate_stream(stream):\n",
    "    for i, n in enumerate(stream[25:]):\n",
    "        if not valid_number(n, stream[i:i+25]):\n",
    "            return n"
   ]
  },
  {
   "cell_type": "code",
   "execution_count": 73,
   "metadata": {},
   "outputs": [
    {
     "name": "stdout",
     "output_type": "stream",
     "text": [
      "Part 1:\n",
      "776203571\n"
     ]
    }
   ],
   "source": [
    "invalid = validate_stream(data)\n",
    "print(\"Part 1:\")\n",
    "print(invalid)"
   ]
  },
  {
   "cell_type": "code",
   "execution_count": 70,
   "metadata": {},
   "outputs": [],
   "source": [
    "def find_contiguous_sum(target, stream):\n",
    "    for start in range(len(stream)):\n",
    "        for end in range(start, len(stream)):\n",
    "            run = stream[start:end]\n",
    "            if len(run) > 1 and sum(run) == target:\n",
    "                return min(run) + max(run)"
   ]
  },
  {
   "cell_type": "code",
   "execution_count": 74,
   "metadata": {},
   "outputs": [
    {
     "name": "stdout",
     "output_type": "stream",
     "text": [
      "Part 2:\n",
      "104800569\n"
     ]
    }
   ],
   "source": [
    "print(\"Part 2:\")\n",
    "print(find_contiguous_sum(invalid, data))"
   ]
  },
  {
   "cell_type": "code",
   "execution_count": null,
   "metadata": {},
   "outputs": [],
   "source": []
  }
 ],
 "metadata": {
  "kernelspec": {
   "display_name": "Python 3",
   "language": "python",
   "name": "python3"
  },
  "language_info": {
   "codemirror_mode": {
    "name": "ipython",
    "version": 3
   },
   "file_extension": ".py",
   "mimetype": "text/x-python",
   "name": "python",
   "nbconvert_exporter": "python",
   "pygments_lexer": "ipython3",
   "version": "3.8.5"
  }
 },
 "nbformat": 4,
 "nbformat_minor": 4
}
