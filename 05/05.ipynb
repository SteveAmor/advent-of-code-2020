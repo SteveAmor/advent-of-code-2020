{
 "cells": [
  {
   "cell_type": "code",
   "execution_count": 88,
   "metadata": {},
   "outputs": [],
   "source": [
    "with open('input') as f:\n",
    "    data = [row.strip() for row in f]"
   ]
  },
  {
   "cell_type": "code",
   "execution_count": 76,
   "metadata": {},
   "outputs": [],
   "source": [
    "def binary_search(code, *, lower=0, upper, lower_char):\n",
    "    for c in code:\n",
    "        if c == lower_char:\n",
    "            upper -= (upper - lower) / 2\n",
    "        else:\n",
    "            lower += (upper - lower) / 2\n",
    "    return int(lower)"
   ]
  },
  {
   "cell_type": "code",
   "execution_count": 78,
   "metadata": {},
   "outputs": [],
   "source": [
    "def get_seat_number(code):\n",
    "    row = binary_search(code[:-3], upper=128, lower_char='F')\n",
    "    col = binary_search(code[-3:], upper=8, lower_char='L')\n",
    "    return row, col"
   ]
  },
  {
   "cell_type": "code",
   "execution_count": 80,
   "metadata": {},
   "outputs": [],
   "source": [
    "def get_seat_id(code):\n",
    "    row, col = get_seat_number(code)\n",
    "    return row * 8 + col"
   ]
  },
  {
   "cell_type": "code",
   "execution_count": 82,
   "metadata": {},
   "outputs": [
    {
     "name": "stdout",
     "output_type": "stream",
     "text": [
      "Part 1:\n",
      "947\n"
     ]
    }
   ],
   "source": [
    "print(\"Part 1:\")\n",
    "print(max(get_seat_id(code) for code in data))"
   ]
  },
  {
   "cell_type": "code",
   "execution_count": 89,
   "metadata": {},
   "outputs": [
    {
     "name": "stdout",
     "output_type": "stream",
     "text": [
      "Part 2:\n",
      "636\n"
     ]
    }
   ],
   "source": [
    "import itertools\n",
    "all_seats = set(itertools.product(range(2, 118), range(8)))\n",
    "seats_taken = {get_seat_number(code) for code in data}\n",
    "available_seats = all_seats - seats_taken\n",
    "print(\"Part 2:\")\n",
    "for row, col in available_seats:\n",
    "    print(row * 8 + col)"
   ]
  },
  {
   "cell_type": "code",
   "execution_count": null,
   "metadata": {},
   "outputs": [],
   "source": []
  }
 ],
 "metadata": {
  "kernelspec": {
   "display_name": "Python 3",
   "language": "python",
   "name": "python3"
  },
  "language_info": {
   "codemirror_mode": {
    "name": "ipython",
    "version": 3
   },
   "file_extension": ".py",
   "mimetype": "text/x-python",
   "name": "python",
   "nbconvert_exporter": "python",
   "pygments_lexer": "ipython3",
   "version": "3.8.5"
  }
 },
 "nbformat": 4,
 "nbformat_minor": 4
}
