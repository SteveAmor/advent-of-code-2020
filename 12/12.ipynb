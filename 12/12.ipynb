{
 "cells": [
  {
   "cell_type": "code",
   "execution_count": 1,
   "metadata": {},
   "outputs": [],
   "source": [
    "with open('input') as f:\n",
    "    instructions = [line.strip() for line in f]"
   ]
  },
  {
   "cell_type": "code",
   "execution_count": 2,
   "metadata": {},
   "outputs": [],
   "source": [
    "def do_angle(direction, degrees, facing):\n",
    "    current_angle = {\n",
    "        'E': 0,\n",
    "        'S': 90,\n",
    "        'W': 180,\n",
    "        'N': 270,\n",
    "    }[facing]\n",
    "    new_angle = {\n",
    "        'L': (current_angle - degrees) % 360,\n",
    "        'R': (current_angle + degrees) % 360,\n",
    "    }[direction]\n",
    "    return {\n",
    "        0: 'E',\n",
    "        90: 'S',\n",
    "        180: 'W',\n",
    "        270: 'N',\n",
    "    }[new_angle]"
   ]
  },
  {
   "cell_type": "code",
   "execution_count": 3,
   "metadata": {},
   "outputs": [],
   "source": [
    "def do_direction(pos, n, direction):\n",
    "    x, y = pos\n",
    "    return {\n",
    "        'E': (x + n, y + 0),\n",
    "        'S': (x + 0, y - n),\n",
    "        'W': (x - n, y + 0),\n",
    "        'N': (x + 0, y + n),\n",
    "    }[direction]"
   ]
  },
  {
   "cell_type": "code",
   "execution_count": 4,
   "metadata": {},
   "outputs": [],
   "source": [
    "def do_instructions(instructions):\n",
    "    facing = 'E'\n",
    "    pos = (0, 0)\n",
    "    for i in instructions:\n",
    "        d = i[0]\n",
    "        n = int(''.join(i[1:]))\n",
    "        if d in 'LR':\n",
    "            facing = do_angle(d, n, facing)\n",
    "        elif d == 'F':\n",
    "            pos = do_direction(pos, n, facing)\n",
    "        elif d in 'NESW':\n",
    "            pos = do_direction(pos, n, d)\n",
    "    return pos"
   ]
  },
  {
   "cell_type": "code",
   "execution_count": 5,
   "metadata": {},
   "outputs": [
    {
     "name": "stdout",
     "output_type": "stream",
     "text": [
      "Part 1:\n",
      "582\n"
     ]
    }
   ],
   "source": [
    "pos = do_instructions(instructions)\n",
    "print(\"Part 1:\")\n",
    "print(sum(abs(n) for n in pos))"
   ]
  },
  {
   "cell_type": "code",
   "execution_count": 6,
   "metadata": {},
   "outputs": [],
   "source": [
    "def move_towards_waypoint(pos, n, waypoint):\n",
    "    diff = (waypoint[0] * n, waypoint[1] * n)\n",
    "    pos = (pos[0] + diff[0], pos[1] + diff[1])\n",
    "    return pos"
   ]
  },
  {
   "cell_type": "code",
   "execution_count": 7,
   "metadata": {},
   "outputs": [],
   "source": [
    "def move_waypoint(waypoint, n, direction):\n",
    "    x, y = waypoint\n",
    "    return {\n",
    "        'N': (x + 0, y + n),\n",
    "        'E': (x + n, y + 0),\n",
    "        'S': (x + 0, y - n),\n",
    "        'W': (x - n, y + 0),\n",
    "    }[direction]"
   ]
  },
  {
   "cell_type": "code",
   "execution_count": 8,
   "metadata": {},
   "outputs": [],
   "source": [
    "def move_waypoint_by_angle(waypoint, direction, angle):\n",
    "    n = angle // 90\n",
    "    for i in range(n):\n",
    "        x, y = waypoint\n",
    "        waypoint = {\n",
    "            'L': (-y, x),\n",
    "            'R': (y, -x),\n",
    "        }[direction]\n",
    "    return waypoint"
   ]
  },
  {
   "cell_type": "code",
   "execution_count": 9,
   "metadata": {},
   "outputs": [],
   "source": [
    "def do_waypoint_instructions(instructions):\n",
    "    pos = (0, 0)\n",
    "    waypoint = (10, 1)\n",
    "    for i in instructions:\n",
    "        d = i[0]\n",
    "        n = int(''.join(i[1:]))\n",
    "        if d in 'LR':\n",
    "            waypoint = move_waypoint_by_angle(waypoint, d, n)\n",
    "        elif d == 'F':\n",
    "            pos = move_towards_waypoint(pos, n, waypoint)\n",
    "        elif d in 'NESW':\n",
    "            waypoint = move_waypoint(waypoint, n, d)\n",
    "    return pos"
   ]
  },
  {
   "cell_type": "code",
   "execution_count": 10,
   "metadata": {},
   "outputs": [
    {
     "name": "stdout",
     "output_type": "stream",
     "text": [
      "Part 2:\n",
      "52069\n"
     ]
    }
   ],
   "source": [
    "pos = do_waypoint_instructions(instructions)\n",
    "print(\"Part 2:\")\n",
    "print(sum(abs(n) for n in pos))"
   ]
  },
  {
   "cell_type": "code",
   "execution_count": null,
   "metadata": {},
   "outputs": [],
   "source": []
  }
 ],
 "metadata": {
  "kernelspec": {
   "display_name": "Python 3",
   "language": "python",
   "name": "python3"
  },
  "language_info": {
   "codemirror_mode": {
    "name": "ipython",
    "version": 3
   },
   "file_extension": ".py",
   "mimetype": "text/x-python",
   "name": "python",
   "nbconvert_exporter": "python",
   "pygments_lexer": "ipython3",
   "version": "3.8.5"
  }
 },
 "nbformat": 4,
 "nbformat_minor": 4
}
