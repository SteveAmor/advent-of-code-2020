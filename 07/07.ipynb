{
 "cells": [
  {
   "cell_type": "code",
   "execution_count": 1,
   "metadata": {},
   "outputs": [],
   "source": [
    "def process_rule(line):\n",
    "    key, values = line.split(' contain ')\n",
    "    values = set(values.split(', '))\n",
    "    if values == {'no other'}:\n",
    "        values = set()\n",
    "    return key, values"
   ]
  },
  {
   "cell_type": "code",
   "execution_count": 3,
   "metadata": {},
   "outputs": [],
   "source": [
    "with open('input') as f:\n",
    "    rules = {\n",
    "        k: v\n",
    "        for k, v in [\n",
    "            process_rule(line.strip('.\\n').replace(' bags', '').replace(' bag', ''))\n",
    "            for line in f\n",
    "        ]\n",
    "    }"
   ]
  },
  {
   "cell_type": "code",
   "execution_count": 4,
   "metadata": {},
   "outputs": [],
   "source": [
    "reverse_rules = {k: set() for k in rules}\n",
    "for key, values in rules.items():\n",
    "    for v in values:\n",
    "        v2 = ' '.join(v.split()[1:])\n",
    "        if v2 in reverse_rules:\n",
    "            reverse_rules[v2].add(key)\n",
    "        else:\n",
    "            reverse_rules[v2] = {key}"
   ]
  },
  {
   "cell_type": "code",
   "execution_count": 5,
   "metadata": {},
   "outputs": [],
   "source": [
    "def recurse_bags_up(color):\n",
    "    bags = set()\n",
    "    for c in reverse_rules[color]:\n",
    "        bags.add(c)\n",
    "        bags |= recurse_bags_up(c)\n",
    "    return bags"
   ]
  },
  {
   "cell_type": "code",
   "execution_count": 6,
   "metadata": {},
   "outputs": [
    {
     "name": "stdout",
     "output_type": "stream",
     "text": [
      "Part 1:\n",
      "235\n"
     ]
    }
   ],
   "source": [
    "print(\"Part 1:\")\n",
    "print(len(recurse_bags_up('shiny gold')))"
   ]
  },
  {
   "cell_type": "code",
   "execution_count": 9,
   "metadata": {},
   "outputs": [
    {
     "name": "stdout",
     "output_type": "stream",
     "text": [
      "Part 2:\n",
      "158493\n"
     ]
    }
   ],
   "source": [
    "def count_bags_inside(color):\n",
    "    count = 1\n",
    "    bags_inside = rules[color]\n",
    "    if bags_inside:\n",
    "        for c in bags_inside:\n",
    "            n, *desc = c.split()\n",
    "            n = int(n)\n",
    "            bag = ' '.join(desc)\n",
    "            count += n * count_bags_inside(bag)\n",
    "    return count\n",
    "\n",
    "print(\"Part 2:\")\n",
    "print(count_bags_inside(\"shiny gold\") - 1) # don't include the gold bag itself"
   ]
  },
  {
   "cell_type": "code",
   "execution_count": null,
   "metadata": {},
   "outputs": [],
   "source": []
  }
 ],
 "metadata": {
  "kernelspec": {
   "display_name": "Python 3",
   "language": "python",
   "name": "python3"
  },
  "language_info": {
   "codemirror_mode": {
    "name": "ipython",
    "version": 3
   },
   "file_extension": ".py",
   "mimetype": "text/x-python",
   "name": "python",
   "nbconvert_exporter": "python",
   "pygments_lexer": "ipython3",
   "version": "3.8.5"
  }
 },
 "nbformat": 4,
 "nbformat_minor": 4
}
