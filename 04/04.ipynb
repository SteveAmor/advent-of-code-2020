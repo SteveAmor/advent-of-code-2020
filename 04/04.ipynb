{
 "cells": [
  {
   "cell_type": "code",
   "execution_count": 8,
   "metadata": {},
   "outputs": [],
   "source": [
    "def get_passport(data):\n",
    "    return {\n",
    "        field.split(':')[0]: field.split(':')[1]\n",
    "        for field in data.split()\n",
    "    }"
   ]
  },
  {
   "cell_type": "code",
   "execution_count": 9,
   "metadata": {},
   "outputs": [],
   "source": [
    "with open('input') as f:\n",
    "    passports = [get_passport(d) for d in f.read().split('\\n\\n')]"
   ]
  },
  {
   "cell_type": "code",
   "execution_count": 10,
   "metadata": {},
   "outputs": [],
   "source": [
    "def validate_fields(passport):\n",
    "    fields = ('byr', 'iyr', 'eyr', 'hgt', 'hcl', 'ecl', 'pid')\n",
    "    return all(field in passport for field in fields)"
   ]
  },
  {
   "cell_type": "code",
   "execution_count": 11,
   "metadata": {},
   "outputs": [
    {
     "name": "stdout",
     "output_type": "stream",
     "text": [
      "Part 1:\n",
      "200\n"
     ]
    }
   ],
   "source": [
    "print(\"Part 1:\")\n",
    "print(sum(validate_fields(passport) for passport in passports))"
   ]
  },
  {
   "cell_type": "code",
   "execution_count": 12,
   "metadata": {},
   "outputs": [],
   "source": [
    "validate_byr = lambda byr: int(byr) in range(1920, 2003)\n",
    "validate_iyr = lambda iyr: int(iyr) in range(2010, 2021)\n",
    "validate_eyr = lambda eyr: int(eyr) in range(2020, 2031)\n",
    "validate_ecl = lambda ecl: ecl in {'amb', 'blu', 'brn', 'gry', 'grn', 'hzl', 'oth'}\n",
    "\n",
    "def validate_hgt(hgt):\n",
    "    if hgt.endswith('cm'):\n",
    "        assert int(hgt[:-2]) in range(150, 194)\n",
    "        return True\n",
    "    elif hgt.endswith('in'):\n",
    "        assert int(hgt[:-2]) in range(59, 77)\n",
    "        return True\n",
    "    else:\n",
    "        return False\n",
    "\n",
    "def validate_hcl(hcl):\n",
    "    try:\n",
    "        assert hcl.startswith('#')\n",
    "        assert len(hcl) == 7\n",
    "        try:\n",
    "            int(hcl[1:], 16)\n",
    "        except ValueError:\n",
    "            return False\n",
    "        return True\n",
    "    except AssertionError:\n",
    "        return False\n",
    "    \n",
    "def validate_pid(pid):\n",
    "    try:\n",
    "        assert len(pid) == 9\n",
    "        try:\n",
    "            int(pid, 10)\n",
    "        except ValueError:\n",
    "            return False\n",
    "        return True\n",
    "    except AssertionError:\n",
    "        return False"
   ]
  },
  {
   "cell_type": "code",
   "execution_count": 13,
   "metadata": {},
   "outputs": [],
   "source": [
    "def validate_passport(passport):    \n",
    "    try:\n",
    "        assert validate_fields(passport)\n",
    "        assert validate_byr(passport['byr'])\n",
    "        assert validate_iyr(passport['iyr'])\n",
    "        assert validate_eyr(passport['eyr'])\n",
    "        assert validate_hgt(passport['hgt'])\n",
    "        assert validate_hcl(passport['hcl'])\n",
    "        assert validate_ecl(passport['ecl'])\n",
    "        assert validate_pid(passport['pid'])\n",
    "        return True\n",
    "    except AssertionError as e:\n",
    "        if str(e): print(e)\n",
    "        return False"
   ]
  },
  {
   "cell_type": "code",
   "execution_count": 14,
   "metadata": {},
   "outputs": [
    {
     "name": "stdout",
     "output_type": "stream",
     "text": [
      "Part 2:\n",
      "116\n"
     ]
    }
   ],
   "source": [
    "print(\"Part 2:\")\n",
    "print(sum(validate_passport(passport) for passport in passports))"
   ]
  },
  {
   "cell_type": "code",
   "execution_count": null,
   "metadata": {},
   "outputs": [],
   "source": []
  }
 ],
 "metadata": {
  "kernelspec": {
   "display_name": "Python 3",
   "language": "python",
   "name": "python3"
  },
  "language_info": {
   "codemirror_mode": {
    "name": "ipython",
    "version": 3
   },
   "file_extension": ".py",
   "mimetype": "text/x-python",
   "name": "python",
   "nbconvert_exporter": "python",
   "pygments_lexer": "ipython3",
   "version": "3.8.5"
  }
 },
 "nbformat": 4,
 "nbformat_minor": 4
}
