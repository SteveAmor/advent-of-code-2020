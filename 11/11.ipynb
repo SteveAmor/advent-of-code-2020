{
 "cells": [
  {
   "cell_type": "code",
   "execution_count": 1,
   "metadata": {},
   "outputs": [],
   "source": [
    "import copy\n",
    "\n",
    "class Grid:\n",
    "    def __init__(self, filename, neighbour_threshold=4):\n",
    "        with open(filename) as f:\n",
    "            self.grid = [list(row.strip()) for row in f]\n",
    "        self.height = len(self.grid)\n",
    "        self.width = len(self.grid[0])\n",
    "        self.neighbour_threshold = neighbour_threshold\n",
    "        \n",
    "    def __len__(self):\n",
    "        \"Return the number of occupied seats\"\n",
    "        return sum(\n",
    "            self.grid[y][x] == '#'\n",
    "            for y in range(self.height)\n",
    "            for x in range(self.width)\n",
    "        )\n",
    "    \n",
    "    def __str__(self):\n",
    "        s = ''\n",
    "        for y in range(self.height):\n",
    "            s += ''.join(self.grid[y]) + '\\n'\n",
    "        return s\n",
    "    \n",
    "    def __next__(self):\n",
    "        return iter(self)\n",
    "        \n",
    "    def __iter__(self):\n",
    "        new_grid = copy.deepcopy(self.grid.copy())\n",
    "        for y in range(self.height):\n",
    "            for x in range(self.width):\n",
    "                num_neighbours = self.count_neighbours(x, y)\n",
    "                if self.grid[y][x] == 'L' and num_neighbours == 0:\n",
    "                    new_grid[y][x] = '#'\n",
    "                elif self.grid[y][x] == '#' and num_neighbours >= self.neighbour_threshold:\n",
    "                    new_grid[y][x] = 'L'\n",
    "        self.grid = new_grid\n",
    "        return self\n",
    "        \n",
    "    def count_neighbours(self, x, y):\n",
    "        neighbour_cells = (\n",
    "            (x - 1 , y - 1), (x + 0 , y - 1), (x + 1 , y - 1),\n",
    "            (x - 1 , y + 0),                  (x + 1 , y + 0),\n",
    "            (x - 1 , y + 1), (x + 0 , y + 1), (x + 1 , y + 1),\n",
    "        )\n",
    "        return sum(\n",
    "            self.grid[y][x] == '#'\n",
    "            for x, y in neighbour_cells\n",
    "            if 0 <= x < self.width and 0 <= y < self.height\n",
    "        )\n",
    "    \n",
    "    def iterate_until_stable(self):\n",
    "        before = len(self)\n",
    "        for _ in self:\n",
    "            after = len(self)\n",
    "            if before == after:\n",
    "                break\n",
    "            before = after"
   ]
  },
  {
   "cell_type": "code",
   "execution_count": 2,
   "metadata": {},
   "outputs": [
    {
     "name": "stdout",
     "output_type": "stream",
     "text": [
      "Part 1:\n",
      "2483\n"
     ]
    }
   ],
   "source": [
    "grid = Grid('input')\n",
    "grid.iterate_until_stable()\n",
    "\n",
    "print(\"Part 1:\")\n",
    "print(len(grid))"
   ]
  },
  {
   "cell_type": "code",
   "execution_count": 3,
   "metadata": {},
   "outputs": [],
   "source": [
    "class Grid2(Grid):\n",
    "    def count_neighbours(self, x, y):\n",
    "        deltas = (\n",
    "            (-1, -1), (-1, 0), (-1, 1),\n",
    "            (0, -1), (0, 1),\n",
    "            (1, -1), (1, 0), (1, 1),\n",
    "        )\n",
    "        neighbours = 0\n",
    "        for delta in deltas:\n",
    "            dx, dy = x, y\n",
    "            while True:\n",
    "                dx += delta[0]\n",
    "                dy += delta[1]\n",
    "                if 0 <= dx < self.width and 0 <= dy < self.height:\n",
    "                    if self.grid[dy][dx] == '#':\n",
    "                        neighbours += 1\n",
    "                        break\n",
    "                    elif self.grid[dy][dx] == 'L':\n",
    "                        break\n",
    "                else:\n",
    "                    break\n",
    "        return neighbours"
   ]
  },
  {
   "cell_type": "code",
   "execution_count": 4,
   "metadata": {},
   "outputs": [
    {
     "name": "stdout",
     "output_type": "stream",
     "text": [
      "Part 2:\n",
      "2285\n"
     ]
    }
   ],
   "source": [
    "grid2 = Grid2('input', neighbour_threshold=5)\n",
    "grid2.iterate_until_stable()\n",
    "print(\"Part 2:\")\n",
    "print(len(grid2))"
   ]
  },
  {
   "cell_type": "code",
   "execution_count": null,
   "metadata": {},
   "outputs": [],
   "source": []
  }
 ],
 "metadata": {
  "kernelspec": {
   "display_name": "Python 3",
   "language": "python",
   "name": "python3"
  },
  "language_info": {
   "codemirror_mode": {
    "name": "ipython",
    "version": 3
   },
   "file_extension": ".py",
   "mimetype": "text/x-python",
   "name": "python",
   "nbconvert_exporter": "python",
   "pygments_lexer": "ipython3",
   "version": "3.8.5"
  }
 },
 "nbformat": 4,
 "nbformat_minor": 4
}
