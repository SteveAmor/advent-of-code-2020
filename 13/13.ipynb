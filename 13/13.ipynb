{
 "cells": [
  {
   "cell_type": "code",
   "execution_count": 1,
   "metadata": {},
   "outputs": [],
   "source": [
    "with open('input') as f:\n",
    "    data = [line.strip() for line in f]\n",
    "now = int(data[0])\n",
    "buses = {int(n) for n in data[1].split(',') if n != 'x'}\n",
    "bus_sequence = [int(n) if n != 'x' else None for n in data[1].split(',')]"
   ]
  },
  {
   "cell_type": "code",
   "execution_count": 2,
   "metadata": {},
   "outputs": [],
   "source": [
    "test_buses = {7,13,59,31,19}\n",
    "test_bus_sequence = [7,13,None,None,59,None,31,19]"
   ]
  },
  {
   "cell_type": "code",
   "execution_count": 3,
   "metadata": {},
   "outputs": [],
   "source": [
    "def find_earliest_bus():\n",
    "    t = now\n",
    "    while True:\n",
    "        for bus in buses:\n",
    "            if t in range(0, t+1, bus):\n",
    "                return bus, t\n",
    "        t += 1"
   ]
  },
  {
   "cell_type": "code",
   "execution_count": 4,
   "metadata": {},
   "outputs": [
    {
     "name": "stdout",
     "output_type": "stream",
     "text": [
      "Part 1:\n",
      "3789\n"
     ]
    }
   ],
   "source": [
    "bus, t = find_earliest_bus()\n",
    "print(\"Part 1:\")\n",
    "print((t - now) * bus)"
   ]
  },
  {
   "cell_type": "code",
   "execution_count": 5,
   "metadata": {},
   "outputs": [],
   "source": [
    "def is_matching_sequence(sequence, bus_sequence):\n",
    "    buses_in_bus_sequence = {\n",
    "        bus_sequence.index(bus): bus\n",
    "        for bus in bus_sequence\n",
    "        if bus is not None\n",
    "    }\n",
    "    for i, bus in buses_in_bus_sequence.items():\n",
    "        if bus not in sequence[i]:\n",
    "            return False\n",
    "    return True"
   ]
  },
  {
   "cell_type": "code",
   "execution_count": 6,
   "metadata": {},
   "outputs": [],
   "source": [
    "def get_buses_at_time(t, buses):\n",
    "    return [\n",
    "        bus\n",
    "        for bus in buses\n",
    "        if t in range(0, t+1, bus)\n",
    "    ]"
   ]
  },
  {
   "cell_type": "code",
   "execution_count": 7,
   "metadata": {},
   "outputs": [],
   "source": [
    "def make_bus_sequence(t, buses, bus_sequence):\n",
    "    return [\n",
    "        get_buses_at_time(t + i, buses)\n",
    "        for i in range(len(bus_sequence))\n",
    "    ]"
   ]
  },
  {
   "cell_type": "code",
   "execution_count": 8,
   "metadata": {},
   "outputs": [],
   "source": [
    "def get_first_bus_after(bus, t):\n",
    "    while True:\n",
    "        if t in range(0, t+1, bus):\n",
    "            return t\n",
    "        t += 1"
   ]
  },
  {
   "cell_type": "code",
   "execution_count": 9,
   "metadata": {},
   "outputs": [],
   "source": [
    "# my first failed attempt\n",
    "# works with test data\n",
    "\n",
    "def part_2(buses, bus_sequence, start=0):\n",
    "    max_bus = max(buses)\n",
    "    offset = bus_sequence.index(max_bus)\n",
    "    t = get_first_bus_after(max(buses), start)\n",
    "    while True:\n",
    "        sequence = make_bus_sequence(t - offset, buses, bus_sequence)\n",
    "        if is_matching_sequence(sequence, bus_sequence):\n",
    "            return t\n",
    "        t += max_bus"
   ]
  },
  {
   "cell_type": "code",
   "execution_count": 10,
   "metadata": {},
   "outputs": [
    {
     "data": {
      "text/plain": [
       "1068785"
      ]
     },
     "execution_count": 10,
     "metadata": {},
     "output_type": "execute_result"
    }
   ],
   "source": [
    "part_2(test_buses, test_bus_sequence)"
   ]
  },
  {
   "cell_type": "code",
   "execution_count": 11,
   "metadata": {},
   "outputs": [],
   "source": [
    "# my second failed attempt\n",
    "# works with test data\n",
    "\n",
    "def part_2_with_sets(buses, bus_sequence, steps, start=0):\n",
    "    last_limit = start\n",
    "    limit = last_limit + steps\n",
    "    while True:\n",
    "        for i, bus in enumerate(buses):\n",
    "            if i == 0:\n",
    "                s = set(range(get_first_bus_after(bus, last_limit), limit, bus))\n",
    "            else:\n",
    "                s &= set(range(get_first_bus_after(bus, last_limit) - bus_sequence.index(bus), limit, bus))\n",
    "        if len(s) > 0:\n",
    "            return min(s)\n",
    "        last_limit = limit\n",
    "        limit += steps"
   ]
  },
  {
   "cell_type": "code",
   "execution_count": 12,
   "metadata": {},
   "outputs": [
    {
     "data": {
      "text/plain": [
       "1068781"
      ]
     },
     "execution_count": 12,
     "metadata": {},
     "output_type": "execute_result"
    }
   ],
   "source": [
    "part_2_with_sets(test_buses, test_bus_sequence, steps=200_000)"
   ]
  },
  {
   "cell_type": "code",
   "execution_count": 13,
   "metadata": {},
   "outputs": [],
   "source": [
    "from functools import reduce\n",
    "\n",
    "def chinese_remainder(n, a):\n",
    "    # https://rosettacode.org/wiki/Chinese_remainder_theorem#Python_3.6\n",
    "    sum = 0\n",
    "    prod = reduce(lambda a, b: a*b, n)\n",
    "    for n_i, a_i in zip(n, a):\n",
    "        p = prod // n_i\n",
    "        sum += a_i * mul_inv(p, n_i) * p\n",
    "    return sum % prod\n",
    " \n",
    "def mul_inv(a, b):\n",
    "    b0 = b\n",
    "    x0, x1 = 0, 1\n",
    "    if b == 1: return 1\n",
    "    while a > 1:\n",
    "        q = a // b\n",
    "        a, b = b, a%b\n",
    "        x0, x1 = x1 - q * x0, x0\n",
    "    if x1 < 0: x1 += b0\n",
    "    return x1"
   ]
  },
  {
   "cell_type": "code",
   "execution_count": 14,
   "metadata": {},
   "outputs": [
    {
     "name": "stdout",
     "output_type": "stream",
     "text": [
      "Part 2:\n",
      "667437230788118\n"
     ]
    }
   ],
   "source": [
    "offsets = [-bus_sequence.index(bus) for bus in buses]\n",
    "print(\"Part 2:\")\n",
    "print(chinese_remainder(buses, offsets))"
   ]
  },
  {
   "cell_type": "code",
   "execution_count": null,
   "metadata": {},
   "outputs": [],
   "source": []
  }
 ],
 "metadata": {
  "kernelspec": {
   "display_name": "Python 3",
   "language": "python",
   "name": "python3"
  },
  "language_info": {
   "codemirror_mode": {
    "name": "ipython",
    "version": 3
   },
   "file_extension": ".py",
   "mimetype": "text/x-python",
   "name": "python",
   "nbconvert_exporter": "python",
   "pygments_lexer": "ipython3",
   "version": "3.8.5"
  }
 },
 "nbformat": 4,
 "nbformat_minor": 4
}
