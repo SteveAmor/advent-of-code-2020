{
 "cells": [
  {
   "cell_type": "code",
   "execution_count": 1,
   "metadata": {},
   "outputs": [],
   "source": [
    "def process_rule(line):\n",
    "    k, ranges_str = line.split(': ')\n",
    "    ranges = [\n",
    "        set(range(int(r.split('-')[0]), int(r.split('-')[1]) + 1))\n",
    "        for r in ranges_str.split(' or ')\n",
    "    ]\n",
    "    v = ranges[0] | ranges[1]\n",
    "    return k, v"
   ]
  },
  {
   "cell_type": "code",
   "execution_count": 2,
   "metadata": {},
   "outputs": [],
   "source": [
    "import itertools\n",
    "\n",
    "with open('input') as f:\n",
    "    data = [line.split('\\n') for line in f.read().strip().split('\\n\\n')]\n",
    "    \n",
    "rules, my_ticket, other_tickets = data\n",
    "rules = {k: v for k, v in [process_rule(line) for line in rules]}\n",
    "my_ticket = [int(i) for i in my_ticket[1].split(',')]\n",
    "other_tickets = [\n",
    "    [int(i) for i in ticket]\n",
    "    for ticket in [ticket.split(',') for ticket in other_tickets[1:]]\n",
    "]\n",
    "all_rule_ranges = set(itertools.chain.from_iterable(rules.values()))"
   ]
  },
  {
   "cell_type": "code",
   "execution_count": 3,
   "metadata": {},
   "outputs": [
    {
     "name": "stdout",
     "output_type": "stream",
     "text": [
      "Part 1:\n",
      "26053\n"
     ]
    }
   ],
   "source": [
    "s = 0\n",
    "for ticket in other_tickets:\n",
    "    for n in ticket:\n",
    "        if n not in all_rule_ranges:\n",
    "            s += n\n",
    "\n",
    "print(\"Part 1:\")\n",
    "print(s)"
   ]
  },
  {
   "cell_type": "code",
   "execution_count": 4,
   "metadata": {},
   "outputs": [],
   "source": [
    "def validate_ticket(ticket):\n",
    "    return set(ticket) <= all_rule_ranges"
   ]
  },
  {
   "cell_type": "code",
   "execution_count": 5,
   "metadata": {},
   "outputs": [],
   "source": [
    "valid_other_tickets = [ticket for ticket in other_tickets if validate_ticket(ticket)]"
   ]
  },
  {
   "cell_type": "code",
   "execution_count": 6,
   "metadata": {},
   "outputs": [],
   "source": [
    "def get_matching_fields(values):\n",
    "    matching_fields = set()\n",
    "    for field, valid_values in rules.items():\n",
    "        if values <= valid_values:\n",
    "            matching_fields.add(field)\n",
    "    return matching_fields"
   ]
  },
  {
   "cell_type": "code",
   "execution_count": 7,
   "metadata": {},
   "outputs": [],
   "source": [
    "matching_fields = {\n",
    "    field: get_matching_fields({ticket[field] for ticket in valid_other_tickets})\n",
    "    for field in range(len(valid_other_tickets[0]))\n",
    "}"
   ]
  },
  {
   "cell_type": "code",
   "execution_count": 8,
   "metadata": {},
   "outputs": [],
   "source": [
    "def deduct_matcing_fields(matching_fields):\n",
    "    deduced = {n: None for n in range(len(matching_fields))}\n",
    "    while None in deduced.values():\n",
    "        for n in matching_fields:\n",
    "            fields = matching_fields[n]\n",
    "            for f in deduced.values():\n",
    "                if f in fields:\n",
    "                    matching_fields[n] -= {f}\n",
    "            if len(fields) == 1:\n",
    "                deduced[n] = list(fields)[0]\n",
    "    return deduced"
   ]
  },
  {
   "cell_type": "code",
   "execution_count": 9,
   "metadata": {},
   "outputs": [],
   "source": [
    "actual_fields = deduct_matcing_fields(matching_fields)"
   ]
  },
  {
   "cell_type": "code",
   "execution_count": 10,
   "metadata": {},
   "outputs": [
    {
     "name": "stdout",
     "output_type": "stream",
     "text": [
      "Part 2:\n",
      "1515506256421\n"
     ]
    }
   ],
   "source": [
    "import math\n",
    "print(\"Part 2:\")\n",
    "print(math.prod([my_ticket[n] for n, field in actual_fields.items() if field.startswith('departure')]))"
   ]
  },
  {
   "cell_type": "code",
   "execution_count": null,
   "metadata": {},
   "outputs": [],
   "source": []
  }
 ],
 "metadata": {
  "kernelspec": {
   "display_name": "Python 3",
   "language": "python",
   "name": "python3"
  },
  "language_info": {
   "codemirror_mode": {
    "name": "ipython",
    "version": 3
   },
   "file_extension": ".py",
   "mimetype": "text/x-python",
   "name": "python",
   "nbconvert_exporter": "python",
   "pygments_lexer": "ipython3",
   "version": "3.8.5"
  }
 },
 "nbformat": 4,
 "nbformat_minor": 4
}
