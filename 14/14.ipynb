{
 "cells": [
  {
   "cell_type": "code",
   "execution_count": 1,
   "metadata": {},
   "outputs": [],
   "source": [
    "with open('input') as f:\n",
    "    instructions = [line.strip() for line in f]"
   ]
  },
  {
   "cell_type": "code",
   "execution_count": 2,
   "metadata": {},
   "outputs": [],
   "source": [
    "def apply_mask(address, mask):\n",
    "    address = format(address, '036b')\n",
    "    new_address = ''\n",
    "    for i in range(36):\n",
    "        if mask[i] == 'X':\n",
    "            new_address += address[i]\n",
    "        else:\n",
    "            new_address += mask[i]\n",
    "    return int(new_address, 2)"
   ]
  },
  {
   "cell_type": "code",
   "execution_count": 3,
   "metadata": {},
   "outputs": [],
   "source": [
    "program = {}\n",
    "\n",
    "for i in instructions:\n",
    "    if i.startswith('mask'):\n",
    "        mask = i.split()[-1]\n",
    "    else:\n",
    "        location = int(i[i.index('[')+1:i.index(']')])\n",
    "        address = int(i.split()[-1])\n",
    "        program[location] = apply_mask(address, mask)"
   ]
  },
  {
   "cell_type": "code",
   "execution_count": 4,
   "metadata": {},
   "outputs": [
    {
     "name": "stdout",
     "output_type": "stream",
     "text": [
      "Part 1:\n",
      "12610010960049\n"
     ]
    }
   ],
   "source": [
    "print(\"Part 1:\")\n",
    "print(sum(program.values()))"
   ]
  },
  {
   "cell_type": "code",
   "execution_count": 5,
   "metadata": {},
   "outputs": [],
   "source": [
    "def str_replace_at_index(s, i, new):\n",
    "    return s[:i] + new + s[i+1:]"
   ]
  },
  {
   "cell_type": "code",
   "execution_count": 6,
   "metadata": {},
   "outputs": [],
   "source": [
    "import itertools\n",
    "\n",
    "def find_floaters(address):\n",
    "    if 'X' in address:\n",
    "        floaters = [str_replace_at_index(address, address.index('X'), bit) for bit in '01']\n",
    "        return list(itertools.chain.from_iterable([find_floaters(f) for f in floaters]))\n",
    "    return [address]"
   ]
  },
  {
   "cell_type": "code",
   "execution_count": 7,
   "metadata": {},
   "outputs": [],
   "source": [
    "def apply_mask_2(address, mask):\n",
    "    address = format(address, '036b')\n",
    "    new_address = ''\n",
    "    for i in range(36):\n",
    "        if mask[i] == '0':\n",
    "            new_address += address[i]\n",
    "        elif mask[i] == '1':\n",
    "            new_address += '1'\n",
    "        else:\n",
    "            new_address += 'X'\n",
    "    return [int(f, 2) for f in find_floaters(new_address)]"
   ]
  },
  {
   "cell_type": "code",
   "execution_count": 9,
   "metadata": {},
   "outputs": [],
   "source": [
    "program_2 = {}\n",
    "\n",
    "for i in instructions:\n",
    "    if i.startswith('mask'):\n",
    "        mask = i.split()[-1]\n",
    "    else:\n",
    "        n = int(i[i.index('[')+1:i.index(']')])\n",
    "        locations = apply_mask_2(n, mask)\n",
    "        address = int(i.split()[-1])\n",
    "        for location in locations:\n",
    "            program_2[location] = address"
   ]
  },
  {
   "cell_type": "code",
   "execution_count": 10,
   "metadata": {},
   "outputs": [
    {
     "name": "stdout",
     "output_type": "stream",
     "text": [
      "Part 2:\n",
      "3608464522781\n"
     ]
    }
   ],
   "source": [
    "print(\"Part 2:\")\n",
    "print(sum(program_2.values()))"
   ]
  },
  {
   "cell_type": "code",
   "execution_count": null,
   "metadata": {},
   "outputs": [],
   "source": []
  }
 ],
 "metadata": {
  "kernelspec": {
   "display_name": "Python 3",
   "language": "python",
   "name": "python3"
  },
  "language_info": {
   "codemirror_mode": {
    "name": "ipython",
    "version": 3
   },
   "file_extension": ".py",
   "mimetype": "text/x-python",
   "name": "python",
   "nbconvert_exporter": "python",
   "pygments_lexer": "ipython3",
   "version": "3.8.5"
  }
 },
 "nbformat": 4,
 "nbformat_minor": 4
}
