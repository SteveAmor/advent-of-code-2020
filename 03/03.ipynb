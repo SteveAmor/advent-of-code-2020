{
 "cells": [
  {
   "cell_type": "code",
   "execution_count": 39,
   "metadata": {},
   "outputs": [],
   "source": [
    "trees = set()\n",
    "with open('input') as f:\n",
    "    for r, line in enumerate(f):\n",
    "        for c, char in enumerate(line.strip()):\n",
    "            if char == '#':\n",
    "                trees.add((c, r))\n",
    "                \n",
    "width, height = c, r"
   ]
  },
  {
   "cell_type": "code",
   "execution_count": 40,
   "metadata": {},
   "outputs": [],
   "source": [
    "def do_slope(dx, dy):\n",
    "    pos = (0, 0)\n",
    "    delta = (dx, dy)\n",
    "    trees_hit = int(pos in trees)\n",
    "    while pos[1] <= height:\n",
    "        x = (pos[0] + delta[0]) % (width + 1)\n",
    "        y = pos[1] + delta[1]\n",
    "        pos = (x, y)\n",
    "        if pos in trees:\n",
    "            trees_hit += 1\n",
    "    return trees_hit"
   ]
  },
  {
   "cell_type": "code",
   "execution_count": 42,
   "metadata": {},
   "outputs": [
    {
     "name": "stdout",
     "output_type": "stream",
     "text": [
      "Part 1:\n",
      "272\n"
     ]
    }
   ],
   "source": [
    "print(\"Part 1:\")\n",
    "print(do_slope(3, 1))"
   ]
  },
  {
   "cell_type": "code",
   "execution_count": 47,
   "metadata": {},
   "outputs": [
    {
     "name": "stdout",
     "output_type": "stream",
     "text": [
      "Part 2:\n",
      "3898725600\n"
     ]
    }
   ],
   "source": [
    "import math\n",
    "slopes = ((1, 1), (3, 1), (5, 1), (7, 1), (1, 2))\n",
    "trees_on_slopes = [do_slope(*slope) for slope in slopes]\n",
    "print(\"Part 2:\")\n",
    "print(math.prod(trees_on_slopes))"
   ]
  },
  {
   "cell_type": "code",
   "execution_count": null,
   "metadata": {},
   "outputs": [],
   "source": []
  }
 ],
 "metadata": {
  "kernelspec": {
   "display_name": "Python 3",
   "language": "python",
   "name": "python3"
  },
  "language_info": {
   "codemirror_mode": {
    "name": "ipython",
    "version": 3
   },
   "file_extension": ".py",
   "mimetype": "text/x-python",
   "name": "python",
   "nbconvert_exporter": "python",
   "pygments_lexer": "ipython3",
   "version": "3.8.5"
  }
 },
 "nbformat": 4,
 "nbformat_minor": 4
}
