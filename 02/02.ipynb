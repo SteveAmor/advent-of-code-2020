{
 "cells": [
  {
   "cell_type": "code",
   "execution_count": 101,
   "metadata": {},
   "outputs": [],
   "source": [
    "def get_password(line):\n",
    "    a, b, password = line.split(' ')\n",
    "    lower, higher = [int(n) for n in a.split('-')]\n",
    "    char = b.replace(':', '')\n",
    "    assert len(char) == 1\n",
    "    return password, lower, higher, char"
   ]
  },
  {
   "cell_type": "code",
   "execution_count": 102,
   "metadata": {},
   "outputs": [
    {
     "data": {
      "text/plain": [
       "1000"
      ]
     },
     "execution_count": 102,
     "metadata": {},
     "output_type": "execute_result"
    }
   ],
   "source": [
    "with open('input') as f:\n",
    "    passwords = [\n",
    "        get_password(line.strip())\n",
    "        for line in f\n",
    "    ]\n",
    "len(passwords)"
   ]
  },
  {
   "cell_type": "code",
   "execution_count": 108,
   "metadata": {},
   "outputs": [],
   "source": [
    "def validate_password(password, lower, higher, char):\n",
    "    return lower <= password.count(char) <= higher"
   ]
  },
  {
   "cell_type": "code",
   "execution_count": 110,
   "metadata": {},
   "outputs": [],
   "source": [
    "assert validate_password('a', 1, 2, 'a')\n",
    "assert validate_password('aa', 1, 2, 'a')\n",
    "assert not validate_password('aaa', 1, 2, 'a')\n",
    "\n",
    "assert validate_password('abcde', 1, 3, 'a')\n",
    "assert not validate_password('cdefg', 1, 3, 'b')\n",
    "assert validate_password('ccccccccc', 2, 9, 'c')\n",
    "\n",
    "assert not validate_password('abcdaaa', 1, 3, 'a')"
   ]
  },
  {
   "cell_type": "code",
   "execution_count": 113,
   "metadata": {},
   "outputs": [
    {
     "name": "stdout",
     "output_type": "stream",
     "text": [
      "Part 1:\n",
      "548\n"
     ]
    }
   ],
   "source": [
    "print(\"Part 1:\")\n",
    "print(sum(validate_password(*password) for password in passwords))"
   ]
  },
  {
   "cell_type": "code",
   "execution_count": 121,
   "metadata": {},
   "outputs": [],
   "source": [
    "def validate_password_2(password, a, b, char):\n",
    "    return (password[a-1] == char) != (password[b-1] == char)"
   ]
  },
  {
   "cell_type": "code",
   "execution_count": 123,
   "metadata": {},
   "outputs": [],
   "source": [
    "assert validate_password_2('abcde', 1, 3, 'a')\n",
    "assert not validate_password_2('cdefg', 1, 3, 'b')\n",
    "assert not validate_password_2('ccccccccc', 2, 9, 'c')"
   ]
  },
  {
   "cell_type": "code",
   "execution_count": 124,
   "metadata": {},
   "outputs": [
    {
     "name": "stdout",
     "output_type": "stream",
     "text": [
      "Part 2:\n",
      "502\n"
     ]
    }
   ],
   "source": [
    "print(\"Part 2:\")\n",
    "print(sum(validate_password_2(*password) for password in passwords))"
   ]
  },
  {
   "cell_type": "code",
   "execution_count": null,
   "metadata": {},
   "outputs": [],
   "source": []
  }
 ],
 "metadata": {
  "kernelspec": {
   "display_name": "Python 3",
   "language": "python",
   "name": "python3"
  },
  "language_info": {
   "codemirror_mode": {
    "name": "ipython",
    "version": 3
   },
   "file_extension": ".py",
   "mimetype": "text/x-python",
   "name": "python",
   "nbconvert_exporter": "python",
   "pygments_lexer": "ipython3",
   "version": "3.8.5"
  }
 },
 "nbformat": 4,
 "nbformat_minor": 4
}
